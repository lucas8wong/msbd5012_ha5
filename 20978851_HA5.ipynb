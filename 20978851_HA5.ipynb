{
  "nbformat": 4,
  "nbformat_minor": 0,
  "metadata": {
    "colab": {
      "provenance": [],
      "gpuType": "T4",
      "collapsed_sections": [
        "4Uy326YPc7eG",
        "Ip3pjnSFdLHr",
        "ZY5rn8e9dQQ9",
        "WFHnL3sSdT8G",
        "X4z4zmGVdYFp"
      ]
    },
    "kernelspec": {
      "name": "python3",
      "display_name": "Python 3"
    },
    "language_info": {
      "name": "python"
    },
    "accelerator": "GPU"
  },
  "cells": [
    {
      "cell_type": "markdown",
      "source": [
        "Student Name: Wong Chong Ki\n",
        "\n",
        "Student ID: 20978851\n",
        "\n",
        "Student Email: ckwongch@connect.ust.hk\n",
        "\n",
        "---\n",
        "\n",
        "Steps to test:\n",
        "\n",
        " - Run all cells in **2. Model Definition (Vanilla RNN), 3. Training Setup, 4. Evaluation and Testing** respectively\n",
        "\n",
        " - Upload model files **'model_200.pth', 'model_2000.pth', 'model_20000.pth'**, and the **'test.txt'**\n",
        "\n",
        " - Run the cell in **6. My Test**, check the test result in the output window"
      ],
      "metadata": {
        "id": "CBLCuhyg7Gui"
      }
    },
    {
      "cell_type": "markdown",
      "source": [
        "### 1. Data Generation"
      ],
      "metadata": {
        "id": "4Uy326YPc7eG"
      }
    },
    {
      "cell_type": "code",
      "execution_count": null,
      "metadata": {
        "colab": {
          "base_uri": "https://localhost:8080/"
        },
        "id": "dQeDB6YAc4NR",
        "outputId": "0f0598fa-c098-4db3-e4b8-08a9697d881e"
      },
      "outputs": [
        {
          "output_type": "stream",
          "name": "stdout",
          "text": [
            "Begin data generation (200)\n",
            "Data generation completed (200)\n",
            "Saved data_200.txt\n",
            "\n",
            "Begin data generation (2000)\n",
            "Data generation completed (2000)\n",
            "Saved data_2000.txt\n",
            "\n",
            "Begin data generation (20000)\n",
            "Data generation completed (20000)\n",
            "Saved data_20000.txt\n",
            "\n",
            "Begin data generation (1000)\n",
            "Data generation completed (1000)\n",
            "Saved my_test_1000.txt\n"
          ]
        }
      ],
      "source": [
        "import random\n",
        "import torch\n",
        "\n",
        "# Helper function to check if a number is a palindrome\n",
        "def is_palindrome(number):\n",
        "  s = str(number)\n",
        "  return s == s[::-1]\n",
        "\n",
        "# Generate dataset\n",
        "def generate_data(num_samples):\n",
        "  print(f\"Begin data generation ({num_samples})\")\n",
        "  data = []\n",
        "  half_samples = num_samples // 2  # For equal palindromic and non-palindromic samples\n",
        "\n",
        "  # Generate palindromic numbers\n",
        "  for _ in range(half_samples):\n",
        "    digits = random.randint(1, 5)\n",
        "    half = ''.join([str(random.randint(0, 9)) for _ in range((digits + 1) // 2)])\n",
        "    palin = int(half + half[::-1][digits % 2:])\n",
        "    data.append((palin, 1))  # Label 1 for palindrome\n",
        "\n",
        "  # Generate non-palindromic numbers\n",
        "  while len(data) < num_samples:\n",
        "    digits = random.randint(1, 5)\n",
        "    number = random.randint(10**(digits - 1), 10**digits - 1)\n",
        "    if not is_palindrome(number):\n",
        "      data.append((number, 0))  # Label 0 for non-palindrome\n",
        "\n",
        "  print(f\"Data generation completed ({num_samples})\")\n",
        "  return data\n",
        "\n",
        "# Save generated data to file\n",
        "def save_data(data, filename):\n",
        "  with open(filename, 'w') as f:\n",
        "    for number, label in data:\n",
        "      f.write(f\"{number} {label}\\n\")\n",
        "\n",
        "# Generate datasets\n",
        "data_200 = generate_data(200)\n",
        "save_data(data_200, \"data_200.txt\")\n",
        "print(\"Saved data_200.txt\\n\")\n",
        "\n",
        "data_2000 = generate_data(2000)\n",
        "save_data(data_2000, \"data_2000.txt\")\n",
        "print(\"Saved data_2000.txt\\n\")\n",
        "\n",
        "data_20000 = generate_data(20000)\n",
        "save_data(data_20000, \"data_20000.txt\")\n",
        "print(\"Saved data_20000.txt\\n\")\n",
        "\n",
        "my_test_1000 = generate_data(1000)\n",
        "save_data(my_test_1000, \"my_test_1000.txt\")\n",
        "print(\"Saved my_test_1000.txt\")"
      ]
    },
    {
      "cell_type": "markdown",
      "source": [
        "### 2. Model Definition (Vanilla RNN)"
      ],
      "metadata": {
        "id": "Ip3pjnSFdLHr"
      }
    },
    {
      "cell_type": "code",
      "source": [
        "import torch.nn as nn\n",
        "\n",
        "class PalindromeRNN(nn.Module):\n",
        "  def __init__(self, input_size, hidden_size, output_size):\n",
        "    super(PalindromeRNN, self).__init__()\n",
        "    self.hidden_size = hidden_size\n",
        "    self.i2h = nn.Linear(input_size + hidden_size, hidden_size)\n",
        "    self.h2o = nn.Linear(hidden_size, output_size)\n",
        "    self.softmax = nn.LogSoftmax(dim=1)\n",
        "\n",
        "  def forward(self, input, hidden):\n",
        "    combined = torch.cat((input, hidden), 1)\n",
        "    hidden = self.i2h(combined)\n",
        "    output = self.h2o(hidden)\n",
        "    output = self.softmax(output)\n",
        "    return output, hidden\n",
        "\n",
        "  def initHidden(self):\n",
        "    return torch.zeros(1, self.hidden_size)\n"
      ],
      "metadata": {
        "id": "mTlUMG4xdN3g"
      },
      "execution_count": 18,
      "outputs": []
    },
    {
      "cell_type": "markdown",
      "source": [
        "### 3. Training Setup"
      ],
      "metadata": {
        "id": "ZY5rn8e9dQQ9"
      }
    },
    {
      "cell_type": "code",
      "source": [
        "import torch.optim as optim\n",
        "import matplotlib.pyplot as plt\n",
        "\n",
        "# Parameters\n",
        "n_hidden = 128\n",
        "n_categories = 2  # Output: Palindrome or Not\n",
        "n_letters = 10    # Digits 0-9 as input\n",
        "learning_rate = 0.005\n",
        "\n",
        "# Helper to convert number to tensor\n",
        "def number_to_tensor(number):\n",
        "  tensor = torch.zeros(len(str(number)), 1, n_letters)\n",
        "  for i, digit in enumerate(str(number)):\n",
        "    tensor[i][0][int(digit)] = 1\n",
        "  return tensor\n",
        "\n",
        "# Training function\n",
        "def train(line_tensor, category_tensor, model, optimizer, criterion):\n",
        "  hidden = model.initHidden()\n",
        "  model.zero_grad()\n",
        "\n",
        "  for i in range(line_tensor.size()[0]):\n",
        "    output, hidden = model(line_tensor[i], hidden)\n",
        "\n",
        "  loss = criterion(output, category_tensor)\n",
        "  loss.backward()\n",
        "  optimizer.step()\n",
        "\n",
        "  return output, loss.item()\n",
        "\n",
        "# Training loop with loss recording\n",
        "def train_model(data, model, optimizer, criterion, epochs=100, print_every=10):\n",
        "  all_losses = []\n",
        "  for epoch in range(epochs):\n",
        "    total_loss = 0\n",
        "    for number, label in data:\n",
        "      line_tensor = number_to_tensor(number)\n",
        "      category_tensor = torch.tensor([label], dtype=torch.long)\n",
        "      output, loss = train(line_tensor, category_tensor, model, optimizer, criterion)\n",
        "      total_loss += loss\n",
        "    average_loss = total_loss / len(data)\n",
        "    all_losses.append(average_loss)\n",
        "\n",
        "    if epoch % print_every == 0:\n",
        "      print(f\"Epoch {epoch}: Loss {average_loss}\")\n",
        "  return all_losses\n"
      ],
      "metadata": {
        "id": "xYlX91GVdSZb"
      },
      "execution_count": 19,
      "outputs": []
    },
    {
      "cell_type": "markdown",
      "source": [
        "### 4. Evaluation and Testing"
      ],
      "metadata": {
        "id": "WFHnL3sSdT8G"
      }
    },
    {
      "cell_type": "code",
      "source": [
        "# Function to plot training loss\n",
        "def plot_loss(losses, title=\"Training Loss\"):\n",
        "  plt.figure()\n",
        "  plt.plot(losses)\n",
        "  plt.title(title)\n",
        "  plt.xlabel(\"Epoch\")\n",
        "  plt.ylabel(\"Loss\")\n",
        "  plt.show()\n",
        "\n",
        "# Function to save the model\n",
        "def save_model(model, filename):\n",
        "  torch.save(model.state_dict(), filename)\n",
        "  print(f\"Model saved to {filename}\")\n",
        "\n",
        "# Evaluation helper\n",
        "def evaluate(line_tensor):\n",
        "  hidden = rnn.initHidden()\n",
        "  for i in range(line_tensor.size()[0]):\n",
        "    output, hidden = rnn(line_tensor[i], hidden)\n",
        "  return output\n",
        "\n",
        "# Test function\n",
        "def test_model(data):\n",
        "  correct = 0\n",
        "  total = len(data)\n",
        "  for number, label in data:\n",
        "    line_tensor = number_to_tensor(number)\n",
        "    output = evaluate(line_tensor)\n",
        "    guess = torch.argmax(output).item()\n",
        "    if guess == label:\n",
        "      correct += 1\n",
        "  accuracy = correct / total\n",
        "  print(f\"Test Accuracy: {accuracy * 100:.2f}%\")\n",
        "  return accuracy\n",
        "\n",
        "# Load data from file\n",
        "def load_data(filename):\n",
        "  data = []\n",
        "  with open(filename, 'r') as f:\n",
        "    for line in f:\n",
        "      number, label = line.strip().split()\n",
        "      data.append((int(number), int(label)))\n",
        "  return data\n",
        "\n",
        "def load_model(model, filename):\n",
        "  model.load_state_dict(torch.load(filename))\n",
        "  model.eval()  # Set to evaluation mode\n",
        "  print(f\"Model loaded from {filename}\")\n",
        "  return model\n",
        "\n",
        "# Evaluation helper function\n",
        "def evaluate(model, line_tensor):\n",
        "  hidden = model.initHidden()\n",
        "  for i in range(line_tensor.size()[0]):\n",
        "    output, hidden = model(line_tensor[i], hidden)\n",
        "  return output\n",
        "\n",
        "# Test function to calculate accuracy\n",
        "def test_model(model, test_data):\n",
        "  correct = 0\n",
        "  total = len(test_data)\n",
        "  for number, label in test_data:\n",
        "    line_tensor = number_to_tensor(number)\n",
        "    output = evaluate(model, line_tensor)\n",
        "    guess = torch.argmax(output).item()\n",
        "    if guess == label:\n",
        "      correct += 1\n",
        "  accuracy = correct / total\n",
        "  print(f\"Test Accuracy: {accuracy * 100:.2f}%\")\n",
        "  return accuracy"
      ],
      "metadata": {
        "id": "ttlTmjhUdW2n"
      },
      "execution_count": 20,
      "outputs": []
    },
    {
      "cell_type": "markdown",
      "source": [
        "### 5. Running and Saving Results"
      ],
      "metadata": {
        "id": "X4z4zmGVdYFp"
      }
    },
    {
      "cell_type": "code",
      "source": [
        "# Load datasets\n",
        "data_200 = load_data(\"data_200.txt\")\n",
        "data_2000 = load_data(\"data_2000.txt\")\n",
        "data_20000 = load_data(\"data_20000.txt\")\n",
        "\n",
        "# Loss function\n",
        "criterion = nn.NLLLoss()"
      ],
      "metadata": {
        "id": "vnXTK3YVdapx"
      },
      "execution_count": null,
      "outputs": []
    },
    {
      "cell_type": "code",
      "source": [
        "# Model for 200 samples\n",
        "rnn = PalindromeRNN(n_letters, n_hidden, n_categories)\n",
        "optimizer = optim.SGD(rnn.parameters(), lr=learning_rate)\n",
        "print(\"Training model on 200 samples...\")\n",
        "loss_200 = train_model(data_200, rnn, optimizer, criterion, epochs=100)\n",
        "plot_loss(loss_200, title=\"Training Loss on 200 Samples\")\n",
        "save_model(rnn, \"model_200.pth\")"
      ],
      "metadata": {
        "colab": {
          "base_uri": "https://localhost:8080/",
          "height": 680
        },
        "id": "nCr_1vmzn_7f",
        "outputId": "cc618d75-cd47-4076-ef5d-26a8d5a3f86e"
      },
      "execution_count": null,
      "outputs": [
        {
          "output_type": "stream",
          "name": "stdout",
          "text": [
            "Training model on 200 samples...\n",
            "Epoch 0: Loss 0.6535091319680214\n",
            "Epoch 10: Loss 0.5722469117864967\n",
            "Epoch 20: Loss 0.4652238061418757\n",
            "Epoch 30: Loss 0.39042724579485366\n",
            "Epoch 40: Loss 0.3730100183522882\n",
            "Epoch 50: Loss 0.3678655177687597\n",
            "Epoch 60: Loss 0.3662584053396904\n",
            "Epoch 70: Loss 0.36592350343122915\n",
            "Epoch 80: Loss 0.3664306541408496\n",
            "Epoch 90: Loss 0.36763345439381395\n"
          ]
        },
        {
          "output_type": "display_data",
          "data": {
            "text/plain": [
              "<Figure size 640x480 with 1 Axes>"
            ],
            "image/png": "[encoded data removed]"
          },
          "metadata": {}
        },
        {
          "output_type": "stream",
          "name": "stdout",
          "text": [
            "Model saved to model_200.pth\n"
          ]
        }
      ]
    },
    {
      "cell_type": "code",
      "source": [
        "# Model for 2000 samples\n",
        "rnn = PalindromeRNN(n_letters, n_hidden, n_categories)  # Reinitialize model\n",
        "optimizer = optim.SGD(rnn.parameters(), lr=learning_rate)\n",
        "print(\"Training model on 2000 samples...\")\n",
        "loss_2000 = train_model(data_2000, rnn, optimizer, criterion, epochs=40)\n",
        "plot_loss(loss_2000, title=\"Training Loss on 2000 Samples\")\n",
        "save_model(rnn, \"model_2000.pth\")"
      ],
      "metadata": {
        "colab": {
          "base_uri": "https://localhost:8080/",
          "height": 228
        },
        "id": "OClnKLuSoAEh",
        "outputId": "13461998-5dfe-4469-9f2b-ba1adecdfbfd"
      },
      "execution_count": 17,
      "outputs": [
        {
          "output_type": "stream",
          "name": "stdout",
          "text": [
            "Training model on 2000 samples...\n"
          ]
        },
        {
          "output_type": "error",
          "ename": "NameError",
          "evalue": "name 'data_2000' is not defined",
          "traceback": [
            "\u001b[0;31m---------------------------------------------------------------------------\u001b[0m",
            "\u001b[0;31mNameError\u001b[0m                                 Traceback (most recent call last)",
            "\u001b[0;32m<ipython-input-17-41358e41a2d6>\u001b[0m in \u001b[0;36m<cell line: 5>\u001b[0;34m()\u001b[0m\n\u001b[1;32m      3\u001b[0m \u001b[0moptimizer\u001b[0m \u001b[0;34m=\u001b[0m \u001b[0moptim\u001b[0m\u001b[0;34m.\u001b[0m\u001b[0mSGD\u001b[0m\u001b[0;34m(\u001b[0m\u001b[0mrnn\u001b[0m\u001b[0;34m.\u001b[0m\u001b[0mparameters\u001b[0m\u001b[0;34m(\u001b[0m\u001b[0;34m)\u001b[0m\u001b[0;34m,\u001b[0m \u001b[0mlr\u001b[0m\u001b[0;34m=\u001b[0m\u001b[0mlearning_rate\u001b[0m\u001b[0;34m)\u001b[0m\u001b[0;34m\u001b[0m\u001b[0;34m\u001b[0m\u001b[0m\n\u001b[1;32m      4\u001b[0m \u001b[0mprint\u001b[0m\u001b[0;34m(\u001b[0m\u001b[0;34m\"Training model on 2000 samples...\"\u001b[0m\u001b[0;34m)\u001b[0m\u001b[0;34m\u001b[0m\u001b[0;34m\u001b[0m\u001b[0m\n\u001b[0;32m----> 5\u001b[0;31m \u001b[0mloss_2000\u001b[0m \u001b[0;34m=\u001b[0m \u001b[0mtrain_model\u001b[0m\u001b[0;34m(\u001b[0m\u001b[0mdata_2000\u001b[0m\u001b[0;34m,\u001b[0m \u001b[0mrnn\u001b[0m\u001b[0;34m,\u001b[0m \u001b[0moptimizer\u001b[0m\u001b[0;34m,\u001b[0m \u001b[0mcriterion\u001b[0m\u001b[0;34m,\u001b[0m \u001b[0mepochs\u001b[0m\u001b[0;34m=\u001b[0m\u001b[0;36m40\u001b[0m\u001b[0;34m)\u001b[0m\u001b[0;34m\u001b[0m\u001b[0;34m\u001b[0m\u001b[0m\n\u001b[0m\u001b[1;32m      6\u001b[0m \u001b[0mplot_loss\u001b[0m\u001b[0;34m(\u001b[0m\u001b[0mloss_2000\u001b[0m\u001b[0;34m,\u001b[0m \u001b[0mtitle\u001b[0m\u001b[0;34m=\u001b[0m\u001b[0;34m\"Training Loss on 2000 Samples\"\u001b[0m\u001b[0;34m)\u001b[0m\u001b[0;34m\u001b[0m\u001b[0;34m\u001b[0m\u001b[0m\n\u001b[1;32m      7\u001b[0m \u001b[0msave_model\u001b[0m\u001b[0;34m(\u001b[0m\u001b[0mrnn\u001b[0m\u001b[0;34m,\u001b[0m \u001b[0;34m\"model_2000.pth\"\u001b[0m\u001b[0;34m)\u001b[0m\u001b[0;34m\u001b[0m\u001b[0;34m\u001b[0m\u001b[0m\n",
            "\u001b[0;31mNameError\u001b[0m: name 'data_2000' is not defined"
          ]
        }
      ]
    },
    {
      "cell_type": "code",
      "source": [
        "# Model for 20000 samples\n",
        "rnn = PalindromeRNN(n_letters, n_hidden, n_categories)  # Reinitialize model\n",
        "optimizer = optim.SGD(rnn.parameters(), lr=learning_rate)\n",
        "print(\"Training model on 20000 samples...\")\n",
        "loss_20000 = train_model(data_20000, rnn, optimizer, criterion, epochs=5)\n",
        "plot_loss(loss_20000, title=\"Training Loss on 20000 Samples\")\n",
        "save_model(rnn, \"model_20000.pth\")"
      ],
      "metadata": {
        "colab": {
          "base_uri": "https://localhost:8080/",
          "height": 524
        },
        "id": "EhZajzP9oAM3",
        "outputId": "426f39bd-d411-40ad-b51d-d473d2597cb9"
      },
      "execution_count": null,
      "outputs": [
        {
          "output_type": "stream",
          "name": "stdout",
          "text": [
            "Training model on 20000 samples...\n",
            "Epoch 0: Loss 0.023393663501881615\n"
          ]
        },
        {
          "output_type": "display_data",
          "data": {
            "text/plain": [
              "<Figure size 640x480 with 1 Axes>"
            ],
            "image/png": "[encoded data removed]"
          },
          "metadata": {}
        },
        {
          "output_type": "stream",
          "name": "stdout",
          "text": [
            "Model saved to model_20000.pth\n"
          ]
        }
      ]
    },
    {
      "cell_type": "markdown",
      "source": [
        "### 6. My Test"
      ],
      "metadata": {
        "id": "2vQSjM8HlAkf"
      }
    },
    {
      "cell_type": "code",
      "source": [
        "# change the test_file_name here\n",
        "test_file_name = \"test.txt\" # my_test_1000.txt\n",
        "\n",
        "# Load test data\n",
        "test_data = load_data(test_file_name)\n",
        "\n",
        "# Test each saved model\n",
        "# Model trained with 200 samples\n",
        "rnn = PalindromeRNN(n_letters, n_hidden, n_categories)\n",
        "load_model(rnn, \"model_200.pth\")\n",
        "test_accuracy_200 = test_model(rnn, test_data)\n",
        "print('-'*30)\n",
        "\n",
        "# Model trained with 2000 samples\n",
        "rnn = PalindromeRNN(n_letters, n_hidden, n_categories)\n",
        "load_model(rnn, \"model_2000.pth\")\n",
        "test_accuracy_2000 = test_model(rnn, test_data)\n",
        "print('-'*30)\n",
        "\n",
        "# Model trained with 20000 samples\n",
        "rnn = PalindromeRNN(n_letters, n_hidden, n_categories)\n",
        "load_model(rnn, \"model_20000.pth\")\n",
        "test_accuracy_20000 = test_model(rnn, test_data)\n",
        "print('-'*30)"
      ],
      "metadata": {
        "colab": {
          "base_uri": "https://localhost:8080/"
        },
        "id": "fiebWkBFlT0o",
        "outputId": "60590da5-b817-43f3-aced-bba860d2ff8a"
      },
      "execution_count": 21,
      "outputs": [
        {
          "output_type": "stream",
          "name": "stderr",
          "text": [
            "<ipython-input-20-13d2bcc588ca>:46: FutureWarning: You are using `torch.load` with `weights_only=False` (the current default value), which uses the default pickle module implicitly. It is possible to construct malicious pickle data which will execute arbitrary code during unpickling (See https://github.com/pytorch/pytorch/blob/main/SECURITY.md#untrusted-models for more details). In a future release, the default value for `weights_only` will be flipped to `True`. This limits the functions that could be executed during unpickling. Arbitrary objects will no longer be allowed to be loaded via this mode unless they are explicitly allowlisted by the user via `torch.serialization.add_safe_globals`. We recommend you start setting `weights_only=True` for any use case where you don't have full control of the loaded file. Please open an issue on GitHub for any issues related to this experimental feature.\n",
            "  model.load_state_dict(torch.load(filename))\n"
          ]
        },
        {
          "output_type": "stream",
          "name": "stdout",
          "text": [
            "Model loaded from model_200.pth\n",
            "Test Accuracy: 53.30%\n",
            "------------------------------\n",
            "Model loaded from model_2000.pth\n",
            "Test Accuracy: 59.40%\n",
            "------------------------------\n",
            "Model loaded from model_20000.pth\n",
            "Test Accuracy: 59.40%\n",
            "------------------------------\n"
          ]
        }
      ]
    }
  ]
}